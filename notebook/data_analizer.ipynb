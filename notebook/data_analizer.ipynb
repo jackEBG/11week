{
 "cells": [
  {
   "cell_type": "code",
   "execution_count": 7,
   "metadata": {},
   "outputs": [],
   "source": [
    "import pandas as pd\n",
    "import matplotlib.pyplot as plt\n",
    "from datetime import datetime\n",
    "import seaborn as sns\n",
    "#plt.style.use('seaborn')\n",
    "import yfinance as yf\n",
    "import requests\n",
    "from bs4 import BeautifulSoup"
   ]
  },
  {
   "cell_type": "code",
   "execution_count": 8,
   "metadata": {},
   "outputs": [
    {
     "name": "stderr",
     "output_type": "stream",
     "text": [
      "[*********************100%***********************]  1 of 1 completed\n"
     ]
    },
    {
     "data": {
      "text/html": [
       "<div>\n",
       "<style scoped>\n",
       "    .dataframe tbody tr th:only-of-type {\n",
       "        vertical-align: middle;\n",
       "    }\n",
       "\n",
       "    .dataframe tbody tr th {\n",
       "        vertical-align: top;\n",
       "    }\n",
       "\n",
       "    .dataframe thead tr th {\n",
       "        text-align: left;\n",
       "    }\n",
       "</style>\n",
       "<table border=\"1\" class=\"dataframe\">\n",
       "  <thead>\n",
       "    <tr>\n",
       "      <th>Price</th>\n",
       "      <th>Date</th>\n",
       "      <th>Adj Close</th>\n",
       "      <th>Close</th>\n",
       "      <th>High</th>\n",
       "      <th>Low</th>\n",
       "      <th>Open</th>\n",
       "      <th>Volume</th>\n",
       "    </tr>\n",
       "    <tr>\n",
       "      <th>Ticker</th>\n",
       "      <th></th>\n",
       "      <th>TSLA</th>\n",
       "      <th>TSLA</th>\n",
       "      <th>TSLA</th>\n",
       "      <th>TSLA</th>\n",
       "      <th>TSLA</th>\n",
       "      <th>TSLA</th>\n",
       "    </tr>\n",
       "  </thead>\n",
       "  <tbody>\n",
       "    <tr>\n",
       "      <th>0</th>\n",
       "      <td>2015-01-02 00:00:00+00:00</td>\n",
       "      <td>14.620667</td>\n",
       "      <td>14.620667</td>\n",
       "      <td>14.883333</td>\n",
       "      <td>14.217333</td>\n",
       "      <td>14.858000</td>\n",
       "      <td>71466000</td>\n",
       "    </tr>\n",
       "    <tr>\n",
       "      <th>1</th>\n",
       "      <td>2015-01-05 00:00:00+00:00</td>\n",
       "      <td>14.006000</td>\n",
       "      <td>14.006000</td>\n",
       "      <td>14.433333</td>\n",
       "      <td>13.810667</td>\n",
       "      <td>14.303333</td>\n",
       "      <td>80527500</td>\n",
       "    </tr>\n",
       "    <tr>\n",
       "      <th>2</th>\n",
       "      <td>2015-01-06 00:00:00+00:00</td>\n",
       "      <td>14.085333</td>\n",
       "      <td>14.085333</td>\n",
       "      <td>14.280000</td>\n",
       "      <td>13.614000</td>\n",
       "      <td>14.004000</td>\n",
       "      <td>93928500</td>\n",
       "    </tr>\n",
       "    <tr>\n",
       "      <th>3</th>\n",
       "      <td>2015-01-07 00:00:00+00:00</td>\n",
       "      <td>14.063333</td>\n",
       "      <td>14.063333</td>\n",
       "      <td>14.318667</td>\n",
       "      <td>13.985333</td>\n",
       "      <td>14.223333</td>\n",
       "      <td>44526000</td>\n",
       "    </tr>\n",
       "    <tr>\n",
       "      <th>4</th>\n",
       "      <td>2015-01-08 00:00:00+00:00</td>\n",
       "      <td>14.041333</td>\n",
       "      <td>14.041333</td>\n",
       "      <td>14.253333</td>\n",
       "      <td>14.000667</td>\n",
       "      <td>14.187333</td>\n",
       "      <td>51637500</td>\n",
       "    </tr>\n",
       "  </tbody>\n",
       "</table>\n",
       "</div>"
      ],
      "text/plain": [
       "Price                       Date  Adj Close      Close       High        Low  \\\n",
       "Ticker                                 TSLA       TSLA       TSLA       TSLA   \n",
       "0      2015-01-02 00:00:00+00:00  14.620667  14.620667  14.883333  14.217333   \n",
       "1      2015-01-05 00:00:00+00:00  14.006000  14.006000  14.433333  13.810667   \n",
       "2      2015-01-06 00:00:00+00:00  14.085333  14.085333  14.280000  13.614000   \n",
       "3      2015-01-07 00:00:00+00:00  14.063333  14.063333  14.318667  13.985333   \n",
       "4      2015-01-08 00:00:00+00:00  14.041333  14.041333  14.253333  14.000667   \n",
       "\n",
       "Price        Open    Volume  \n",
       "Ticker       TSLA      TSLA  \n",
       "0       14.858000  71466000  \n",
       "1       14.303333  80527500  \n",
       "2       14.004000  93928500  \n",
       "3       14.223333  44526000  \n",
       "4       14.187333  51637500  "
      ]
     },
     "execution_count": 8,
     "metadata": {},
     "output_type": "execute_result"
    }
   ],
   "source": [
    "tesla=yf.Ticker('TSLA')\n",
    "#tesla_data=tesla.history(period=\"max\")\n",
    "tesla_data = yf.download(\"TSLA\", start=\"2015-01-01\", end=\"2024-12-31\") \n",
    "\n",
    "tesla_data.reset_index(inplace=True)\n",
    "tesla_data.head()"
   ]
  },
  {
   "cell_type": "code",
   "execution_count": 9,
   "metadata": {},
   "outputs": [],
   "source": [
    "# using requests library to download the webpage\n",
    "url='https://www.macrotrends.net/stocks/charts/TSLA/tesla/revenue'\n",
    "html_data  = requests.get(url).text\n",
    "# Save the text of the response\n",
    "\n"
   ]
  },
  {
   "cell_type": "code",
   "execution_count": 10,
   "metadata": {},
   "outputs": [],
   "source": [
    "beautiful_soup=BeautifulSoup(html_data,\"html5lib\")"
   ]
  },
  {
   "cell_type": "code",
   "execution_count": 11,
   "metadata": {},
   "outputs": [
    {
     "ename": "NameError",
     "evalue": "name 'table_index' is not defined",
     "output_type": "error",
     "traceback": [
      "\u001b[1;31m---------------------------------------------------------------------------\u001b[0m",
      "\u001b[1;31mNameError\u001b[0m                                 Traceback (most recent call last)",
      "Cell \u001b[1;32mIn[11], line 7\u001b[0m\n\u001b[0;32m      4\u001b[0m         table_index\u001b[38;5;241m=\u001b[39mindex\n\u001b[0;32m      5\u001b[0m tesla_revenue\u001b[38;5;241m=\u001b[39mpd\u001b[38;5;241m.\u001b[39mDataFrame(columns\u001b[38;5;241m=\u001b[39m[\u001b[38;5;124m\"\u001b[39m\u001b[38;5;124mDate\u001b[39m\u001b[38;5;124m\"\u001b[39m,\u001b[38;5;124m\"\u001b[39m\u001b[38;5;124mRevenue\u001b[39m\u001b[38;5;124m\"\u001b[39m])\n\u001b[1;32m----> 7\u001b[0m \u001b[38;5;28;01mfor\u001b[39;00m row \u001b[38;5;129;01min\u001b[39;00m tables[\u001b[43mtable_index\u001b[49m]\u001b[38;5;241m.\u001b[39mtbody\u001b[38;5;241m.\u001b[39mfind_all(\u001b[38;5;124m'\u001b[39m\u001b[38;5;124mtr\u001b[39m\u001b[38;5;124m'\u001b[39m):\n\u001b[0;32m      8\u001b[0m     col\u001b[38;5;241m=\u001b[39mrow\u001b[38;5;241m.\u001b[39mfind_all(\u001b[38;5;124m\"\u001b[39m\u001b[38;5;124mtd\u001b[39m\u001b[38;5;124m\"\u001b[39m)\n\u001b[0;32m      9\u001b[0m     \u001b[38;5;28;01mif\u001b[39;00m(col\u001b[38;5;241m!=\u001b[39m[]):\n",
      "\u001b[1;31mNameError\u001b[0m: name 'table_index' is not defined"
     ]
    }
   ],
   "source": [
    "tables=beautiful_soup.find_all(\"table\")\n",
    "for index,table in enumerate(tables):\n",
    "    if(\"Tesla Quarterly Revenue\" in str(table)):\n",
    "        table_index=index\n",
    "tesla_revenue=pd.DataFrame(columns=[\"Date\",\"Revenue\"])\n",
    "\n",
    "for row in tables[table_index].tbody.find_all('tr'):\n",
    "    col=row.find_all(\"td\")\n",
    "    if(col!=[]):\n",
    "        date=col[0].text\n",
    "        revenue=col[1].text.strip().replace(\"$\",\"\").replace(\",\",\"\")\n",
    "        tesla_revenue=tesla_revenue.append({\"Date\":date,\"Revenue\":revenue},ignore_index=True)\n",
    "tesla_revenue.head()"
   ]
  }
 ],
 "metadata": {
  "kernelspec": {
   "display_name": "env",
   "language": "python",
   "name": "python3"
  },
  "language_info": {
   "codemirror_mode": {
    "name": "ipython",
    "version": 3
   },
   "file_extension": ".py",
   "mimetype": "text/x-python",
   "name": "python",
   "nbconvert_exporter": "python",
   "pygments_lexer": "ipython3",
   "version": "3.10.8"
  }
 },
 "nbformat": 4,
 "nbformat_minor": 2
}
